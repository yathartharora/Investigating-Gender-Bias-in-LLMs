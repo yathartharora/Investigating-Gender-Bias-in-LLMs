{
 "cells": [
  {
   "cell_type": "code",
   "execution_count": 1,
   "metadata": {},
   "outputs": [],
   "source": [
    "import pandas as pd"
   ]
  },
  {
   "cell_type": "code",
   "execution_count": 2,
   "metadata": {},
   "outputs": [],
   "source": [
    "def read_file(path):\n",
    "    return pd.read_csv(path)"
   ]
  },
  {
   "cell_type": "code",
   "execution_count": 3,
   "metadata": {},
   "outputs": [],
   "source": [
    "test = read_file('data/test.csv')\n",
    "train = read_file('data/train.csv')\n",
    "validation = read_file('data/val.csv')"
   ]
  },
  {
   "cell_type": "code",
   "execution_count": 4,
   "metadata": {},
   "outputs": [
    {
     "data": {
      "text/html": [
       "<div>\n",
       "<style scoped>\n",
       "    .dataframe tbody tr th:only-of-type {\n",
       "        vertical-align: middle;\n",
       "    }\n",
       "\n",
       "    .dataframe tbody tr th {\n",
       "        vertical-align: top;\n",
       "    }\n",
       "\n",
       "    .dataframe thead th {\n",
       "        text-align: right;\n",
       "    }\n",
       "</style>\n",
       "<table border=\"1\" class=\"dataframe\">\n",
       "  <thead>\n",
       "    <tr style=\"text-align: right;\">\n",
       "      <th></th>\n",
       "      <th>label</th>\n",
       "      <th>sentence</th>\n",
       "    </tr>\n",
       "  </thead>\n",
       "  <tbody>\n",
       "    <tr>\n",
       "      <th>0</th>\n",
       "      <td>1</td>\n",
       "      <td>A stirring, funny and finally transporting re-...</td>\n",
       "    </tr>\n",
       "    <tr>\n",
       "      <th>1</th>\n",
       "      <td>0</td>\n",
       "      <td>Apparently reassembled from the cutting-room f...</td>\n",
       "    </tr>\n",
       "    <tr>\n",
       "      <th>2</th>\n",
       "      <td>0</td>\n",
       "      <td>They presume their audience won't sit still fo...</td>\n",
       "    </tr>\n",
       "    <tr>\n",
       "      <th>3</th>\n",
       "      <td>1</td>\n",
       "      <td>This is a visually stunning rumination on love...</td>\n",
       "    </tr>\n",
       "    <tr>\n",
       "      <th>4</th>\n",
       "      <td>1</td>\n",
       "      <td>Jonathan Parker's Bartleby should have been th...</td>\n",
       "    </tr>\n",
       "    <tr>\n",
       "      <th>...</th>\n",
       "      <td>...</td>\n",
       "      <td>...</td>\n",
       "    </tr>\n",
       "    <tr>\n",
       "      <th>6915</th>\n",
       "      <td>1</td>\n",
       "      <td>Painful, horrifying and oppressively tragic, t...</td>\n",
       "    </tr>\n",
       "    <tr>\n",
       "      <th>6916</th>\n",
       "      <td>0</td>\n",
       "      <td>Take Care is nicely performed by a quintet of ...</td>\n",
       "    </tr>\n",
       "    <tr>\n",
       "      <th>6917</th>\n",
       "      <td>0</td>\n",
       "      <td>The script covers huge, heavy topics in a blan...</td>\n",
       "    </tr>\n",
       "    <tr>\n",
       "      <th>6918</th>\n",
       "      <td>0</td>\n",
       "      <td>A seriously bad film with seriously warped log...</td>\n",
       "    </tr>\n",
       "    <tr>\n",
       "      <th>6919</th>\n",
       "      <td>1</td>\n",
       "      <td>A deliciously nonsensical comedy about a city ...</td>\n",
       "    </tr>\n",
       "  </tbody>\n",
       "</table>\n",
       "<p>6920 rows × 2 columns</p>\n",
       "</div>"
      ],
      "text/plain": [
       "      label                                           sentence\n",
       "0         1  A stirring, funny and finally transporting re-...\n",
       "1         0  Apparently reassembled from the cutting-room f...\n",
       "2         0  They presume their audience won't sit still fo...\n",
       "3         1  This is a visually stunning rumination on love...\n",
       "4         1  Jonathan Parker's Bartleby should have been th...\n",
       "...     ...                                                ...\n",
       "6915      1  Painful, horrifying and oppressively tragic, t...\n",
       "6916      0  Take Care is nicely performed by a quintet of ...\n",
       "6917      0  The script covers huge, heavy topics in a blan...\n",
       "6918      0  A seriously bad film with seriously warped log...\n",
       "6919      1  A deliciously nonsensical comedy about a city ...\n",
       "\n",
       "[6920 rows x 2 columns]"
      ]
     },
     "execution_count": 4,
     "metadata": {},
     "output_type": "execute_result"
    }
   ],
   "source": [
    "# print(len(train))\n",
    "train"
   ]
  },
  {
   "cell_type": "code",
   "execution_count": 5,
   "metadata": {},
   "outputs": [],
   "source": [
    "# i=0\n",
    "# for sentence in train['sentence']:\n",
    "#     i+=1\n",
    "#     if 'he' in sentence.split() or 'she' in sentence.split():\n",
    "#         print(i)\n",
    "#         print(sentence)"
   ]
  },
  {
   "cell_type": "code",
   "execution_count": 6,
   "metadata": {},
   "outputs": [],
   "source": [
    "from CDA.substitutor import Substitutor\n",
    "from CDA.utils import load_json_pairs\n",
    "\n",
    "base_pairs = load_json_pairs('CDA/cda_default_pairs.json')\n",
    "name_pairs = load_json_pairs('CDA/names_pairs_1000_scale.json')"
   ]
  },
  {
   "cell_type": "code",
   "execution_count": 7,
   "metadata": {},
   "outputs": [],
   "source": [
    "def create_json(sentence,sentiment):\n",
    "    temp = {\n",
    "        \"instruction\": \"Predict the sentiment of the input sentence\",\n",
    "        \"input\": sentence,\n",
    "        \"output\": sentiment        \n",
    "    }\n",
    "    return temp"
   ]
  },
  {
   "cell_type": "code",
   "execution_count": 8,
   "metadata": {},
   "outputs": [
    {
     "name": "stderr",
     "output_type": "stream",
     "text": [
      "2024-03-06 13:59:07,352 : INFO : Loading spaCy model...\n",
      "2024-03-06 13:59:08,483 : INFO : Done.\n"
     ]
    }
   ],
   "source": [
    "substitutor = Substitutor(base_pairs, name_pairs=name_pairs)\n",
    "\n",
    "instruction_data=[]\n",
    "for index,s in train.iterrows():\n",
    "    sentence = s['sentence']\n",
    "    sentiment = s['label']\n",
    "    json_original = create_json(sentence,sentiment)\n",
    "    instruction_data.append(json_original)\n",
    "    flipped,isreversed = substitutor.invert_document(sentence)\n",
    "    # print(flipped)\n",
    "    if isreversed:\n",
    "        json_flipped = create_json(flipped,sentiment)\n",
    "        instruction_data.append(json_flipped)\n"
   ]
  },
  {
   "cell_type": "code",
   "execution_count": null,
   "metadata": {},
   "outputs": [],
   "source": [
    "import json\n",
    "with open(\"instruction_data.json\", \"w\") as json_file:\n",
    "    json.dump(instruction_data, json_file, indent=4)"
   ]
  }
 ],
 "metadata": {
  "kernelspec": {
   "display_name": "Python 3.9.13 ('base')",
   "language": "python",
   "name": "python3"
  },
  "language_info": {
   "codemirror_mode": {
    "name": "ipython",
    "version": 3
   },
   "file_extension": ".py",
   "mimetype": "text/x-python",
   "name": "python",
   "nbconvert_exporter": "python",
   "pygments_lexer": "ipython3",
   "version": "3.9.13"
  },
  "orig_nbformat": 4,
  "vscode": {
   "interpreter": {
    "hash": "ac11e4689b6bd487d0ad45ebdb879646be23922d661c3735aa5f82f0157641c7"
   }
  }
 },
 "nbformat": 4,
 "nbformat_minor": 2
}
