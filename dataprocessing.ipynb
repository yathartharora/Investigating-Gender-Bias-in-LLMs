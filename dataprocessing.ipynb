{
 "cells": [
  {
   "cell_type": "code",
   "execution_count": 1,
   "metadata": {},
   "outputs": [
    {
     "name": "stderr",
     "output_type": "stream",
     "text": [
      "2024-03-19 18:00:20,973 : INFO : Loading spaCy model...\n",
      "2024-03-19 18:00:22,369 : INFO : Done.\n"
     ]
    }
   ],
   "source": [
    "import pandas as pd\n",
    "from datasets import load_dataset\n",
    "from CDA.substitutor import Substitutor\n",
    "from CDA.utils import load_json_pairs\n",
    "\n",
    "base_pairs = load_json_pairs('CDA/cda_default_pairs.json')\n",
    "name_pairs = load_json_pairs('CDA/names_pairs_1000_scale.json')\n",
    "substitutor = Substitutor(base_pairs, name_pairs=name_pairs)\n",
    "\n",
    "# !pip3 install datasets"
   ]
  },
  {
   "cell_type": "markdown",
   "metadata": {},
   "source": [
    "#### Helper functions"
   ]
  },
  {
   "cell_type": "code",
   "execution_count": 2,
   "metadata": {},
   "outputs": [],
   "source": [
    "instruction_data=[]\n",
    "def read_file(path,is_sep,column_names=None):\n",
    "    if column_names is not None:\n",
    "        return pd.read_csv(path,sep=is_sep,names=column_names)\n",
    "    return pd.read_csv(path,sep=is_sep)"
   ]
  },
  {
   "cell_type": "code",
   "execution_count": 3,
   "metadata": {},
   "outputs": [],
   "source": [
    "def create_json(instruction,sentence,sentiment):\n",
    "    temp = {\n",
    "        \"instruction\": instruction,\n",
    "        \"input\": sentence,\n",
    "        \"output\": sentiment        \n",
    "    }\n",
    "    return temp\n",
    "\n",
    "def create_json_new(instruction,sentence1,sentence2,sentiment,key1,key2):\n",
    "    temp = {\n",
    "        \"instruction\": instruction,\n",
    "        \"input\": {\n",
    "            key1: sentence1,\n",
    "            key2: sentence2\n",
    "        },\n",
    "        \"output\": sentiment        \n",
    "    }\n",
    "    return temp"
   ]
  },
  {
   "cell_type": "code",
   "execution_count": 4,
   "metadata": {},
   "outputs": [],
   "source": [
    "def process_data(dataframe,instruction):\n",
    "\n",
    "    for index,s in dataframe.iterrows():\n",
    "        sentence = s['sentence']\n",
    "        sentiment = s['label']\n",
    "        json_original = create_json(instruction,sentence,sentiment)\n",
    "        instruction_data.append(json_original)\n",
    "        flipped,isreversed = substitutor.invert_document(sentence)\n",
    "        if isreversed:\n",
    "            json_flipped = create_json(instruction,flipped,sentiment)\n",
    "            instruction_data.append(json_flipped)"
   ]
  },
  {
   "cell_type": "markdown",
   "metadata": {},
   "source": [
    "#### Reading STSB dataset from huggingface"
   ]
  },
  {
   "cell_type": "code",
   "execution_count": 6,
   "metadata": {},
   "outputs": [],
   "source": [
    "stsb_dataset = load_dataset(\"glue\", \"stsb\")\n",
    "train_stsb = stsb_dataset[\"train\"]\n",
    "df=train_stsb.to_pandas()\n",
    "train_stsb = df[['sentence1','sentence2','label']]"
   ]
  },
  {
   "cell_type": "markdown",
   "metadata": {},
   "source": [
    "#### Reading qnli dataset from huggingface"
   ]
  },
  {
   "cell_type": "code",
   "execution_count": 7,
   "metadata": {},
   "outputs": [],
   "source": [
    "qnli_dataset = load_dataset(\"glue\", \"qnli\")\n",
    "train_qnli = qnli_dataset[\"train\"]\n",
    "df=train_qnli.to_pandas()\n",
    "train_qnli = df[['question','sentence','label']]"
   ]
  },
  {
   "cell_type": "markdown",
   "metadata": {},
   "source": [
    "#### Reading SST-2 and Cola Datasets"
   ]
  },
  {
   "cell_type": "code",
   "execution_count": 8,
   "metadata": {},
   "outputs": [],
   "source": [
    "train_sst2 = read_file('data/sst-2/train.csv',',')\n",
    "column_names = ['Source', 'label', 'Author', 'sentence']\n",
    "train_cola = read_file('data/cola/in_domain_train.tsv','\\t',column_names)[['sentence','label']]"
   ]
  },
  {
   "cell_type": "code",
   "execution_count": 9,
   "metadata": {},
   "outputs": [],
   "source": [
    "process_data(train_sst2,\"Predict the sentiment of the given sentence\")\n",
    "process_data(train_cola,\"Predict if the sentence is grammatically correct or not\")"
   ]
  },
  {
   "cell_type": "code",
   "execution_count": 10,
   "metadata": {},
   "outputs": [],
   "source": [
    "instruction=\"Find the Semantic Text Similarity between sentence1 and sentence2 with a similarity score between 1 to 5. Can be a float number\"\n",
    "for index,s in train_stsb.iterrows():\n",
    "        sentence1 = s['sentence1']\n",
    "        sentence2 = s['sentence2']\n",
    "        sentiment = s['label']\n",
    "        json_original = create_json_new(instruction,sentence1,sentence2,sentiment,\"sentence1\",\"sentence2\")\n",
    "        instruction_data.append(json_original)\n",
    "        flipped1,isreversed1 = substitutor.invert_document(sentence1)\n",
    "        flipped2, isreversed2 = substitutor.invert_document(sentence2)\n",
    "        if isreversed1 or isreversed2:\n",
    "            json_flipped = create_json_new(instruction,flipped1,flipped2,sentiment,\"sentence1\",\"sentence2\")\n",
    "            instruction_data.append(json_flipped)\n"
   ]
  },
  {
   "cell_type": "code",
   "execution_count": 11,
   "metadata": {},
   "outputs": [
    {
     "name": "stderr",
     "output_type": "stream",
     "text": [
      "2024-03-19 18:03:40,351 : WARNING : Unable to match case of MacKenzie\n",
      "2024-03-19 18:04:24,733 : WARNING : Unable to match case of MacKenzie\n",
      "2024-03-19 18:04:32,667 : WARNING : Unable to match case of McKenzie\n",
      "2024-03-19 18:05:28,513 : WARNING : Unable to match case of MacKenzie\n",
      "2024-03-19 18:05:58,203 : WARNING : Unable to match case of McKinley\n",
      "2024-03-19 18:06:31,244 : WARNING : Unable to match case of McKenna\n",
      "2024-03-19 18:06:43,509 : WARNING : Unable to match case of MacKenzie\n",
      "2024-03-19 18:06:45,389 : WARNING : Unable to match case of McKenzie\n",
      "2024-03-19 18:07:27,753 : WARNING : Unable to match case of NIcolas\n",
      "2024-03-19 18:07:31,791 : WARNING : Unable to match case of McKenzie\n",
      "2024-03-19 18:07:40,501 : WARNING : Unable to match case of MacKenzie\n",
      "2024-03-19 18:09:28,920 : WARNING : Unable to match case of MacKenzie\n",
      "2024-03-19 18:09:35,692 : WARNING : Unable to match case of MIlton\n",
      "2024-03-19 18:10:14,764 : WARNING : Unable to match case of McKenna\n",
      "2024-03-19 18:10:14,764 : WARNING : Unable to match case of McKenna\n",
      "2024-03-19 18:10:28,617 : WARNING : Unable to match case of SImon\n",
      "2024-03-19 18:10:29,247 : WARNING : Unable to match case of McKenna\n",
      "2024-03-19 18:11:11,363 : WARNING : Unable to match case of LeAnn\n",
      "2024-03-19 18:11:13,065 : WARNING : Unable to match case of MacKenzie\n",
      "2024-03-19 18:11:35,016 : WARNING : Unable to match case of MacKenzie\n",
      "2024-03-19 18:11:54,580 : WARNING : Unable to match case of McKinley\n",
      "2024-03-19 18:12:14,632 : WARNING : Unable to match case of MacKenzie\n",
      "2024-03-19 18:12:15,822 : WARNING : Unable to match case of McKenzie\n",
      "2024-03-19 18:12:25,650 : WARNING : Unable to match case of MacKenzie\n",
      "2024-03-19 18:12:27,581 : WARNING : Unable to match case of McKenna\n",
      "2024-03-19 18:12:42,182 : WARNING : Unable to match case of MacKenzie\n",
      "2024-03-19 18:12:48,451 : WARNING : Unable to match case of MacKenzie\n",
      "2024-03-19 18:12:55,587 : WARNING : Unable to match case of JAmes\n",
      "2024-03-19 18:13:22,131 : WARNING : Unable to match case of MIlton\n",
      "2024-03-19 18:13:32,776 : WARNING : Unable to match case of LeAnn\n",
      "2024-03-19 18:13:32,781 : WARNING : Unable to match case of LeAnn\n",
      "2024-03-19 18:13:50,143 : WARNING : Unable to match case of MacKenzie\n",
      "2024-03-19 18:14:26,382 : WARNING : Unable to match case of McKenna\n",
      "2024-03-19 18:15:41,263 : WARNING : Unable to match case of McKenna\n",
      "2024-03-19 18:16:03,541 : WARNING : Unable to match case of LeAnn\n",
      "2024-03-19 18:16:24,505 : WARNING : Unable to match case of JAmes\n",
      "2024-03-19 18:16:30,848 : WARNING : Unable to match case of NIcolas\n",
      "2024-03-19 18:16:51,345 : WARNING : Unable to match case of MacKenzie\n",
      "2024-03-19 18:17:00,871 : WARNING : Unable to match case of LeAnn\n",
      "2024-03-19 18:17:08,144 : WARNING : Unable to match case of McKenna\n",
      "2024-03-19 18:18:12,081 : WARNING : Unable to match case of SImon\n"
     ]
    }
   ],
   "source": [
    "instruction=\"Find if the sentence contains answer to the question.\"\n",
    "for index,s in train_qnli.iterrows():\n",
    "        question = s['question']\n",
    "        sentence = s['sentence']\n",
    "        sentiment = s['label']\n",
    "        json_original = create_json_new(instruction,question,sentence,sentiment,\"question\",\"sentence\")\n",
    "        instruction_data.append(json_original)\n",
    "        flipped1,isreversed1 = substitutor.invert_document(question)\n",
    "        flipped2, isreversed2 = substitutor.invert_document(sentence)\n",
    "        if isreversed1 or isreversed2:\n",
    "            json_flipped = create_json_new(instruction,flipped1,flipped2,sentiment,\"question\",\"sentence\")\n",
    "            instruction_data.append(json_flipped)"
   ]
  },
  {
   "cell_type": "code",
   "execution_count": 14,
   "metadata": {},
   "outputs": [
    {
     "name": "stdout",
     "output_type": "stream",
     "text": [
      "164574\n"
     ]
    }
   ],
   "source": [
    "import json\n",
    "print(len(instruction_data))\n",
    "with open(\"instruction_data.json\", \"w\") as json_file:\n",
    "    json.dump(instruction_data, json_file, indent=4)"
   ]
  },
  {
   "cell_type": "code",
   "execution_count": null,
   "metadata": {},
   "outputs": [],
   "source": []
  }
 ],
 "metadata": {
  "kernelspec": {
   "display_name": "Python 3.9.13 ('base')",
   "language": "python",
   "name": "python3"
  },
  "language_info": {
   "codemirror_mode": {
    "name": "ipython",
    "version": 3
   },
   "file_extension": ".py",
   "mimetype": "text/x-python",
   "name": "python",
   "nbconvert_exporter": "python",
   "pygments_lexer": "ipython3",
   "version": "3.9.13"
  },
  "orig_nbformat": 4,
  "vscode": {
   "interpreter": {
    "hash": "ac11e4689b6bd487d0ad45ebdb879646be23922d661c3735aa5f82f0157641c7"
   }
  }
 },
 "nbformat": 4,
 "nbformat_minor": 2
}
